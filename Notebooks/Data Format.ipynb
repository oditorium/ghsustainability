{
 "metadata": {
  "name": "Data Format"
 },
 "nbformat": 3,
 "nbformat_minor": 0,
 "worksheets": [
  {
   "cells": [
    {
     "cell_type": "markdown",
     "metadata": {},
     "source": "#Data Format\n\nThe purpose of this workbook is to look at the data format in which we receive the data from Twitter. For this we are looking at a small file called `sample.json`"
    },
    {
     "cell_type": "code",
     "collapsed": false,
     "input": "#!cat sample.json",
     "language": "python",
     "metadata": {},
     "outputs": [],
     "prompt_number": 13
    },
    {
     "cell_type": "markdown",
     "metadata": {},
     "source": "Those data files describe lists where every list corresponds to a single tweet"
    },
    {
     "cell_type": "code",
     "collapsed": false,
     "input": "import json\nall_tweets = json.loads(open('sample.json').read())\nall_tweets",
     "language": "python",
     "metadata": {},
     "outputs": [
      {
       "metadata": {},
       "output_type": "pyout",
       "prompt_number": 14,
       "text": "[{'contributors': None,\n  'coordinates': None,\n  'created_at': 'Fri May 15 09:13:05 +0000 2015',\n  'favorite_count': 0,\n  'favorited': False,\n  'geo': None,\n  'id': 599140434955218944,\n  'id_str': '599140434955218944',\n  'in_reply_to_screen_name': None,\n  'in_reply_to_status_id': None,\n  'in_reply_to_status_id_str': None,\n  'in_reply_to_user_id': None,\n  'in_reply_to_user_id_str': None,\n  'lang': 'en',\n  'metadata': {'iso_language_code': 'en', 'result_type': 'recent'},\n  'place': None,\n  'possibly_sensitive': False,\n  'retweet_count': 0,\n  'retweeted': False,\n  'source': '<a href=\"http://dlvr.it\" rel=\"nofollow\">dlvr.it</a>',\n  'text': 'BPMLY Quotes\\nClick Here -&gt; http://t.co/4FLYwHU1mg\\n\\nTrending $BPMLY $GJK $LPKFF $DW #BPMLY #stock #share',\n  'truncated': False,\n  'user': {'contributors_enabled': False,\n   'created_at': 'Fri Nov 08 02:59:26 +0000 2013',\n   'default_profile': False,\n   'default_profile_image': False,\n   'description': 'I am lookn4wins',\n   'entities': {'description': {'urls': []}},\n   'favourites_count': 0,\n   'follow_request_sent': False,\n   'followers_count': 913,\n   'following': False,\n   'friends_count': 498,\n   'geo_enabled': False,\n   'id': 2181334776,\n   'id_str': '2181334776',\n   'is_translation_enabled': False,\n   'is_translator': False,\n   'lang': 'en',\n   'listed_count': 56,\n   'location': '',\n   'name': 'lookn4wins',\n   'notifications': False,\n   'profile_background_color': '022330',\n   'profile_background_image_url': 'http://abs.twimg.com/images/themes/theme15/bg.png',\n   'profile_background_image_url_https': 'https://abs.twimg.com/images/themes/theme15/bg.png',\n   'profile_background_tile': False,\n   'profile_image_url': 'http://pbs.twimg.com/profile_images/378800000709634272/e2cf5730645fbf55556d6a93914be36e_normal.jpeg',\n   'profile_image_url_https': 'https://pbs.twimg.com/profile_images/378800000709634272/e2cf5730645fbf55556d6a93914be36e_normal.jpeg',\n   'profile_link_color': '0084B4',\n   'profile_sidebar_border_color': 'A8C7F7',\n   'profile_sidebar_fill_color': 'C0DFEC',\n   'profile_text_color': '333333',\n   'profile_use_background_image': True,\n   'protected': False,\n   'screen_name': 'lookn4wins',\n   'statuses_count': 49838,\n   'time_zone': None,\n   'url': None,\n   'utc_offset': None,\n   'verified': False}}]"
      }
     ],
     "prompt_number": 14
    },
    {
     "cell_type": "markdown",
     "metadata": {},
     "source": "A single tweet is simply extracted using a numerical index"
    },
    {
     "cell_type": "code",
     "collapsed": false,
     "input": "tweet = all_tweets[0]\ntweet",
     "language": "python",
     "metadata": {},
     "outputs": [
      {
       "metadata": {},
       "output_type": "pyout",
       "prompt_number": 15,
       "text": "{'contributors': None,\n 'coordinates': None,\n 'created_at': 'Fri May 15 09:13:05 +0000 2015',\n 'favorite_count': 0,\n 'favorited': False,\n 'geo': None,\n 'id': 599140434955218944,\n 'id_str': '599140434955218944',\n 'in_reply_to_screen_name': None,\n 'in_reply_to_status_id': None,\n 'in_reply_to_status_id_str': None,\n 'in_reply_to_user_id': None,\n 'in_reply_to_user_id_str': None,\n 'lang': 'en',\n 'metadata': {'iso_language_code': 'en', 'result_type': 'recent'},\n 'place': None,\n 'possibly_sensitive': False,\n 'retweet_count': 0,\n 'retweeted': False,\n 'source': '<a href=\"http://dlvr.it\" rel=\"nofollow\">dlvr.it</a>',\n 'text': 'BPMLY Quotes\\nClick Here -&gt; http://t.co/4FLYwHU1mg\\n\\nTrending $BPMLY $GJK $LPKFF $DW #BPMLY #stock #share',\n 'truncated': False,\n 'user': {'contributors_enabled': False,\n  'created_at': 'Fri Nov 08 02:59:26 +0000 2013',\n  'default_profile': False,\n  'default_profile_image': False,\n  'description': 'I am lookn4wins',\n  'entities': {'description': {'urls': []}},\n  'favourites_count': 0,\n  'follow_request_sent': False,\n  'followers_count': 913,\n  'following': False,\n  'friends_count': 498,\n  'geo_enabled': False,\n  'id': 2181334776,\n  'id_str': '2181334776',\n  'is_translation_enabled': False,\n  'is_translator': False,\n  'lang': 'en',\n  'listed_count': 56,\n  'location': '',\n  'name': 'lookn4wins',\n  'notifications': False,\n  'profile_background_color': '022330',\n  'profile_background_image_url': 'http://abs.twimg.com/images/themes/theme15/bg.png',\n  'profile_background_image_url_https': 'https://abs.twimg.com/images/themes/theme15/bg.png',\n  'profile_background_tile': False,\n  'profile_image_url': 'http://pbs.twimg.com/profile_images/378800000709634272/e2cf5730645fbf55556d6a93914be36e_normal.jpeg',\n  'profile_image_url_https': 'https://pbs.twimg.com/profile_images/378800000709634272/e2cf5730645fbf55556d6a93914be36e_normal.jpeg',\n  'profile_link_color': '0084B4',\n  'profile_sidebar_border_color': 'A8C7F7',\n  'profile_sidebar_fill_color': 'C0DFEC',\n  'profile_text_color': '333333',\n  'profile_use_background_image': True,\n  'protected': False,\n  'screen_name': 'lookn4wins',\n  'statuses_count': 49838,\n  'time_zone': None,\n  'url': None,\n  'utc_offset': None,\n  'verified': False}}"
      }
     ],
     "prompt_number": 15
    },
    {
     "cell_type": "markdown",
     "metadata": {},
     "source": "We see that a big portion of this dict relates to user data; if we remove it it becomes much smaller. Note the fields `id` and `id_str` - they are the unique Tweed ID (they are the same, but on some systems with limited-size integers it is safer to use `id_str`). Also note that the `text` field contains html entities that might need to be removed (and _all_ links are shortened using the `t.co` domain)"
    },
    {
     "cell_type": "code",
     "collapsed": false,
     "input": "import copy\ntweet_user_data_removed = copy.deepcopy(tweet)\ntweet_user_data_removed['user'] = \"***removed***\"\ntweet_user_data_removed",
     "language": "python",
     "metadata": {},
     "outputs": [
      {
       "metadata": {},
       "output_type": "pyout",
       "prompt_number": 20,
       "text": "{'contributors': None,\n 'coordinates': None,\n 'created_at': 'Fri May 15 09:13:05 +0000 2015',\n 'favorite_count': 0,\n 'favorited': False,\n 'geo': None,\n 'id': 599140434955218944,\n 'id_str': '599140434955218944',\n 'in_reply_to_screen_name': None,\n 'in_reply_to_status_id': None,\n 'in_reply_to_status_id_str': None,\n 'in_reply_to_user_id': None,\n 'in_reply_to_user_id_str': None,\n 'lang': 'en',\n 'metadata': {'iso_language_code': 'en', 'result_type': 'recent'},\n 'place': None,\n 'possibly_sensitive': False,\n 'retweet_count': 0,\n 'retweeted': False,\n 'source': '<a href=\"http://dlvr.it\" rel=\"nofollow\">dlvr.it</a>',\n 'text': 'BPMLY Quotes\\nClick Here -&gt; http://t.co/4FLYwHU1mg\\n\\nTrending $BPMLY $GJK $LPKFF $DW #BPMLY #stock #share',\n 'truncated': False,\n 'user': '***removed***'}"
      }
     ],
     "prompt_number": 20
    },
    {
     "cell_type": "markdown",
     "metadata": {},
     "source": "The user data is shown below. Note that most of it is rather static (albeit specific to a particular point in time, eg the profile picture; also note that this is current as of the time the tweet was retrieved, not as of the time the tweet was sent!)"
    },
    {
     "cell_type": "code",
     "collapsed": false,
     "input": "user_data = tweet['user']\nuser_data",
     "language": "python",
     "metadata": {},
     "outputs": [
      {
       "metadata": {},
       "output_type": "pyout",
       "prompt_number": 21,
       "text": "{'contributors_enabled': False,\n 'created_at': 'Fri Nov 08 02:59:26 +0000 2013',\n 'default_profile': False,\n 'default_profile_image': False,\n 'description': 'I am lookn4wins',\n 'entities': {'description': {'urls': []}},\n 'favourites_count': 0,\n 'follow_request_sent': False,\n 'followers_count': 913,\n 'following': False,\n 'friends_count': 498,\n 'geo_enabled': False,\n 'id': 2181334776,\n 'id_str': '2181334776',\n 'is_translation_enabled': False,\n 'is_translator': False,\n 'lang': 'en',\n 'listed_count': 56,\n 'location': '',\n 'name': 'lookn4wins',\n 'notifications': False,\n 'profile_background_color': '022330',\n 'profile_background_image_url': 'http://abs.twimg.com/images/themes/theme15/bg.png',\n 'profile_background_image_url_https': 'https://abs.twimg.com/images/themes/theme15/bg.png',\n 'profile_background_tile': False,\n 'profile_image_url': 'http://pbs.twimg.com/profile_images/378800000709634272/e2cf5730645fbf55556d6a93914be36e_normal.jpeg',\n 'profile_image_url_https': 'https://pbs.twimg.com/profile_images/378800000709634272/e2cf5730645fbf55556d6a93914be36e_normal.jpeg',\n 'profile_link_color': '0084B4',\n 'profile_sidebar_border_color': 'A8C7F7',\n 'profile_sidebar_fill_color': 'C0DFEC',\n 'profile_text_color': '333333',\n 'profile_use_background_image': True,\n 'protected': False,\n 'screen_name': 'lookn4wins',\n 'statuses_count': 49838,\n 'time_zone': None,\n 'url': None,\n 'utc_offset': None,\n 'verified': False}"
      }
     ],
     "prompt_number": 21
    },
    {
     "cell_type": "code",
     "collapsed": false,
     "input": "",
     "language": "python",
     "metadata": {},
     "outputs": []
    }
   ],
   "metadata": {}
  }
 ]
}